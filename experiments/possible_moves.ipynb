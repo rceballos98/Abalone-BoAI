{
 "cells": [
  {
   "cell_type": "code",
   "execution_count": 3,
   "metadata": {
    "ExecuteTime": {
     "end_time": "2021-04-12T00:43:02.762644Z",
     "start_time": "2021-04-12T00:43:01.181691Z"
    }
   },
   "outputs": [
    {
     "name": "stdout",
     "output_type": "stream",
     "text": [
      "Obtaining file:///home/rodrigo/repos/abalone-BoAI\n",
      "Requirement already satisfied: colorama in /home/rodrigo/anaconda3/envs/py37/lib/python3.7/site-packages (from abalone==1.0.0) (0.4.4)\n",
      "Requirement already satisfied: inquirer in /home/rodrigo/anaconda3/envs/py37/lib/python3.7/site-packages (from abalone==1.0.0) (2.7.0)\n",
      "Requirement already satisfied: blessed==1.17.6 in /home/rodrigo/anaconda3/envs/py37/lib/python3.7/site-packages (from inquirer->abalone==1.0.0) (1.17.6)\n",
      "Requirement already satisfied: python-editor==1.0.4 in /home/rodrigo/anaconda3/envs/py37/lib/python3.7/site-packages (from inquirer->abalone==1.0.0) (1.0.4)\n",
      "Requirement already satisfied: readchar==2.0.1 in /home/rodrigo/anaconda3/envs/py37/lib/python3.7/site-packages (from inquirer->abalone==1.0.0) (2.0.1)\n",
      "Requirement already satisfied: wcwidth>=0.1.4 in /home/rodrigo/anaconda3/envs/py37/lib/python3.7/site-packages (from blessed==1.17.6->inquirer->abalone==1.0.0) (0.1.7)\n",
      "Requirement already satisfied: six>=1.9.0 in /home/rodrigo/anaconda3/envs/py37/lib/python3.7/site-packages (from blessed==1.17.6->inquirer->abalone==1.0.0) (1.12.0)\n",
      "Installing collected packages: abalone\n",
      "  Found existing installation: abalone 1.0.0\n",
      "    Uninstalling abalone-1.0.0:\n",
      "      Successfully uninstalled abalone-1.0.0\n",
      "  Running setup.py develop for abalone\n",
      "Successfully installed abalone\n"
     ]
    }
   ],
   "source": [
    "%%bash\n",
    "cd /home/rodrigo/repos/abalone-BoAI\n",
    "pip install -e ."
   ]
  },
  {
   "cell_type": "markdown",
   "metadata": {},
   "source": [
    "# Abalone"
   ]
  },
  {
   "cell_type": "code",
   "execution_count": 173,
   "metadata": {
    "ExecuteTime": {
     "end_time": "2021-04-12T03:00:57.154500Z",
     "start_time": "2021-04-12T03:00:57.136959Z"
    }
   },
   "outputs": [],
   "source": [
    "from abalone.game import Game\n",
    "from abalone.run_game import run_game\n",
    "\n",
    "%load_ext autoreload\n",
    "%autoreload 2"
   ]
  },
  {
   "cell_type": "code",
   "execution_count": 280,
   "metadata": {
    "ExecuteTime": {
     "end_time": "2021-04-12T03:23:21.321068Z",
     "start_time": "2021-04-12T03:23:21.292067Z"
    }
   },
   "outputs": [],
   "source": [
    "game = Game()\n",
    "moves_history = []"
   ]
  },
  {
   "cell_type": "code",
   "execution_count": 283,
   "metadata": {
    "ExecuteTime": {
     "end_time": "2021-04-12T03:24:30.029985Z",
     "start_time": "2021-04-12T03:24:29.881459Z"
    }
   },
   "outputs": [
    {
     "data": {
      "text/plain": [
       "<matplotlib.axes._axes.Axes at 0x7f34076bc190>"
      ]
     },
     "execution_count": 283,
     "metadata": {},
     "output_type": "execute_result"
    },
    {
     "data": {
      "image/png": "[encoded data removed]",
      "text/plain": [
       "<Figure size 360x360 with 1 Axes>"
      ]
     },
     "metadata": {
      "needs_background": "light"
     },
     "output_type": "display_data"
    }
   ],
   "source": [
    "game.get_plot()"
   ]
  },
  {
   "cell_type": "code",
   "execution_count": 13,
   "metadata": {
    "ExecuteTime": {
     "end_time": "2021-04-12T00:46:23.325711Z",
     "start_time": "2021-04-12T00:46:23.322112Z"
    }
   },
   "outputs": [],
   "source": [
    "from abalone.human_player import HumanPlayer \n",
    "from abalone.random_player import RandomPlayer"
   ]
  },
  {
   "cell_type": "code",
   "execution_count": 14,
   "metadata": {
    "ExecuteTime": {
     "end_time": "2021-04-12T00:46:34.073990Z",
     "start_time": "2021-04-12T00:46:33.954619Z"
    }
   },
   "outputs": [
    {
     "name": "stdout",
     "output_type": "stream",
     "text": [
      "BLACK 14 - WHITE 14\n",
      "    I ● ● ● ● ●\n",
      "   H ● ● ● ● ● ●\n",
      "  G · · ● ● ● · ·\n",
      " F · · · · · · · ·\n",
      "E · · · · · · · · ·\n",
      " D · · · · · · · · 9\n",
      "  C · · ● ● ● · · 8\n",
      "   B ● ● ● ● ● ● 7\n",
      "    A ● ● ● ● ● 6\n",
      "       1 2 3 4 5\n",
      "\n",
      "\n",
      "[?] What type of move do you want to perform?: In-line\n",
      " > In-line\n",
      "   Broadside\n",
      "\n",
      "BLACK's move caused an exception\n",
      "\n",
      "Traceback (most recent call last):\n",
      "  File \"/home/rodrigo/repos/abalone-BoAI/abalone/run_game.py\", line 86, in run_game\n",
      "    move = black.turn(game, moves_history) if game.turn is Player.BLACK else white.turn(game, moves_history)\n",
      "  File \"/home/rodrigo/repos/abalone-BoAI/abalone/human_player.py\", line 107, in turn\n",
      "    move_type = _prompt_move_type()\n",
      "  File \"/home/rodrigo/repos/abalone-BoAI/abalone/human_player.py\", line 34, in _prompt_move_type\n",
      "    choices=['In-line', 'Broadside']\n",
      "  File \"/home/rodrigo/anaconda3/envs/py37/lib/python3.7/site-packages/inquirer/prompt.py\", line 14, in prompt\n",
      "    answers[question.name] = render.render(question, answers)\n",
      "  File \"/home/rodrigo/anaconda3/envs/py37/lib/python3.7/site-packages/inquirer/render/console/__init__.py\", line 44, in render\n",
      "    return self._event_loop(render)\n",
      "  File \"/home/rodrigo/anaconda3/envs/py37/lib/python3.7/site-packages/inquirer/render/console/__init__.py\", line 57, in _event_loop\n",
      "    self._process_input(render)\n",
      "  File \"/home/rodrigo/anaconda3/envs/py37/lib/python3.7/site-packages/inquirer/render/console/__init__.py\", line 108, in _process_input\n",
      "    ev = self._event_gen.next()\n",
      "  File \"/home/rodrigo/anaconda3/envs/py37/lib/python3.7/site-packages/inquirer/events.py\", line 22, in next\n",
      "    return KeyPressed(self._key_gen())\n",
      "  File \"/home/rodrigo/anaconda3/envs/py37/lib/python3.7/site-packages/readchar/readchar.py\", line 88, in readkey\n",
      "    c1 = getchar()\n",
      "  File \"/home/rodrigo/anaconda3/envs/py37/lib/python3.7/site-packages/readchar/readchar_linux.py\", line 12, in readchar\n",
      "    old_settings = termios.tcgetattr(fd)\n",
      "termios.error: (25, 'Inappropriate ioctl for device')\n",
      "\n"
     ]
    },
    {
     "data": {
      "text/plain": [
       "[(<abalone.game.Game at 0x7f1d88256650>, [])]"
      ]
     },
     "execution_count": 14,
     "metadata": {},
     "output_type": "execute_result"
    }
   ],
   "source": [
    "\n",
    "list(run_game(HumanPlayer(), RandomPlayer()))"
   ]
  },
  {
   "cell_type": "code",
   "execution_count": 26,
   "metadata": {},
   "outputs": [
    {
     "name": "stdout",
     "output_type": "stream",
     "text": [
      "(<Space.A1: ('A', '1')>, <Direction.NORTH_EAST: 'north-east'>)\n",
      "(<Space.A1: ('A', '1')>, <Direction.NORTH_WEST: 'north-west'>)\n",
      "(<Space.A2: ('A', '2')>, <Direction.NORTH_EAST: 'north-east'>)\n",
      "(<Space.A2: ('A', '2')>, <Direction.NORTH_WEST: 'north-west'>)\n",
      "(<Space.A3: ('A', '3')>, <Direction.NORTH_EAST: 'north-east'>)\n",
      "(<Space.A3: ('A', '3')>, <Direction.NORTH_WEST: 'north-west'>)\n",
      "(<Space.A4: ('A', '4')>, <Direction.NORTH_EAST: 'north-east'>)\n",
      "(<Space.A4: ('A', '4')>, <Direction.NORTH_WEST: 'north-west'>)\n",
      "(<Space.A5: ('A', '5')>, <Direction.NORTH_EAST: 'north-east'>)\n",
      "(<Space.A5: ('A', '5')>, <Direction.NORTH_WEST: 'north-west'>)\n",
      "(<Space.B1: ('B', '1')>, <Direction.NORTH_EAST: 'north-east'>)\n",
      "(<Space.B1: ('B', '1')>, <Direction.NORTH_WEST: 'north-west'>)\n",
      "((<Space.B1: ('B', '1')>, <Space.B2: ('B', '2')>), <Direction.NORTH_WEST: 'north-west'>)\n",
      "(<Space.B2: ('B', '2')>, <Direction.NORTH_EAST: 'north-east'>)\n",
      "(<Space.B2: ('B', '2')>, <Direction.NORTH_WEST: 'north-west'>)\n",
      "((<Space.B2: ('B', '2')>, <Space.C3: ('C', '3')>), <Direction.NORTH_WEST: 'north-west'>)\n",
      "(<Space.B3: ('B', '3')>, <Direction.NORTH_EAST: 'north-east'>)\n",
      "(<Space.B3: ('B', '3')>, <Direction.NORTH_WEST: 'north-west'>)\n",
      "(<Space.B4: ('B', '4')>, <Direction.NORTH_EAST: 'north-east'>)\n",
      "(<Space.B4: ('B', '4')>, <Direction.NORTH_WEST: 'north-west'>)\n",
      "(<Space.B5: ('B', '5')>, <Direction.NORTH_EAST: 'north-east'>)\n",
      "(<Space.B5: ('B', '5')>, <Direction.NORTH_WEST: 'north-west'>)\n",
      "((<Space.B5: ('B', '5')>, <Space.C5: ('C', '5')>), <Direction.NORTH_EAST: 'north-east'>)\n",
      "((<Space.B5: ('B', '5')>, <Space.B6: ('B', '6')>), <Direction.NORTH_EAST: 'north-east'>)\n",
      "(<Space.B6: ('B', '6')>, <Direction.NORTH_EAST: 'north-east'>)\n",
      "(<Space.B6: ('B', '6')>, <Direction.NORTH_WEST: 'north-west'>)\n",
      "(<Space.C3: ('C', '3')>, <Direction.NORTH_EAST: 'north-east'>)\n",
      "(<Space.C3: ('C', '3')>, <Direction.EAST: 'east'>)\n",
      "(<Space.C3: ('C', '3')>, <Direction.WEST: 'west'>)\n",
      "(<Space.C3: ('C', '3')>, <Direction.NORTH_WEST: 'north-west'>)\n",
      "((<Space.C3: ('C', '3')>, <Space.C4: ('C', '4')>), <Direction.NORTH_EAST: 'north-east'>)\n",
      "((<Space.C3: ('C', '3')>, <Space.C4: ('C', '4')>), <Direction.NORTH_WEST: 'north-west'>)\n",
      "((<Space.C3: ('C', '3')>, <Space.C5: ('C', '5')>), <Direction.NORTH_EAST: 'north-east'>)\n",
      "((<Space.C3: ('C', '3')>, <Space.C5: ('C', '5')>), <Direction.NORTH_WEST: 'north-west'>)\n",
      "(<Space.C4: ('C', '4')>, <Direction.NORTH_EAST: 'north-east'>)\n",
      "(<Space.C4: ('C', '4')>, <Direction.EAST: 'east'>)\n",
      "(<Space.C4: ('C', '4')>, <Direction.WEST: 'west'>)\n",
      "(<Space.C4: ('C', '4')>, <Direction.NORTH_WEST: 'north-west'>)\n",
      "((<Space.C4: ('C', '4')>, <Space.C5: ('C', '5')>), <Direction.NORTH_EAST: 'north-east'>)\n",
      "((<Space.C4: ('C', '4')>, <Space.C5: ('C', '5')>), <Direction.NORTH_WEST: 'north-west'>)\n",
      "(<Space.C5: ('C', '5')>, <Direction.NORTH_EAST: 'north-east'>)\n",
      "(<Space.C5: ('C', '5')>, <Direction.EAST: 'east'>)\n",
      "(<Space.C5: ('C', '5')>, <Direction.WEST: 'west'>)\n",
      "(<Space.C5: ('C', '5')>, <Direction.NORTH_WEST: 'north-west'>)\n"
     ]
    }
   ],
   "source": [
    "for i in game.generate_legal_moves():\n",
    "    print(i)"
   ]
  },
  {
   "cell_type": "code",
   "execution_count": 27,
   "metadata": {},
   "outputs": [
    {
     "ename": "TypeError",
     "evalue": "object of type 'generator' has no len()",
     "output_type": "error",
     "traceback": [
      "\u001b[0;31m---------------------------------------------------------------------------\u001b[0m",
      "\u001b[0;31mTypeError\u001b[0m                                 Traceback (most recent call last)",
      "\u001b[0;32m<ipython-input-27-27355962b18e>\u001b[0m in \u001b[0;36m<module>\u001b[0;34m\u001b[0m\n\u001b[0;32m----> 1\u001b[0;31m \u001b[0mlen\u001b[0m\u001b[0;34m(\u001b[0m\u001b[0mgame\u001b[0m\u001b[0;34m.\u001b[0m\u001b[0mgenerate_legal_moves\u001b[0m\u001b[0;34m(\u001b[0m\u001b[0;34m)\u001b[0m\u001b[0;34m)\u001b[0m\u001b[0;34m\u001b[0m\u001b[0;34m\u001b[0m\u001b[0m\n\u001b[0m",
      "\u001b[0;31mTypeError\u001b[0m: object of type 'generator' has no len()"
     ]
    }
   ],
   "source": [
    "len(game.generate_legal_moves())"
   ]
  },
  {
   "cell_type": "markdown",
   "metadata": {},
   "source": [
    "# Hex"
   ]
  },
  {
   "cell_type": "code",
   "execution_count": 25,
   "metadata": {
    "ExecuteTime": {
     "end_time": "2021-04-12T01:25:13.711640Z",
     "start_time": "2021-04-12T01:25:10.532147Z"
    },
    "scrolled": true
   },
   "outputs": [
    {
     "name": "stdout",
     "output_type": "stream",
     "text": [
      "Obtaining file:///home/rodrigo/repos/hexalattice\n",
      "Requirement already satisfied: numpy in /home/rodrigo/anaconda3/envs/py37/lib/python3.7/site-packages (from hexalattice-alexkaz==1.0.0) (1.17.3)\n",
      "Requirement already satisfied: matplotlib>=3.1 in /home/rodrigo/anaconda3/envs/py37/lib/python3.7/site-packages (from hexalattice-alexkaz==1.0.0) (3.1.1)\n",
      "Requirement already satisfied: python-dateutil>=2.1 in /home/rodrigo/anaconda3/envs/py37/lib/python3.7/site-packages (from matplotlib>=3.1->hexalattice-alexkaz==1.0.0) (2.8.0)\n",
      "Requirement already satisfied: kiwisolver>=1.0.1 in /home/rodrigo/anaconda3/envs/py37/lib/python3.7/site-packages (from matplotlib>=3.1->hexalattice-alexkaz==1.0.0) (1.1.0)\n",
      "Requirement already satisfied: pyparsing!=2.0.4,!=2.1.2,!=2.1.6,>=2.0.1 in /home/rodrigo/anaconda3/envs/py37/lib/python3.7/site-packages (from matplotlib>=3.1->hexalattice-alexkaz==1.0.0) (2.4.2)\n",
      "Requirement already satisfied: cycler>=0.10 in /home/rodrigo/anaconda3/envs/py37/lib/python3.7/site-packages (from matplotlib>=3.1->hexalattice-alexkaz==1.0.0) (0.10.0)\n",
      "Requirement already satisfied: six>=1.5 in /home/rodrigo/anaconda3/envs/py37/lib/python3.7/site-packages (from python-dateutil>=2.1->matplotlib>=3.1->hexalattice-alexkaz==1.0.0) (1.12.0)\n",
      "Requirement already satisfied: setuptools in /home/rodrigo/anaconda3/envs/py37/lib/python3.7/site-packages (from kiwisolver>=1.0.1->matplotlib>=3.1->hexalattice-alexkaz==1.0.0) (41.4.0)\n",
      "Installing collected packages: hexalattice-alexkaz\n",
      "  Found existing installation: hexalattice-alexkaz 1.0.0\n",
      "    Uninstalling hexalattice-alexkaz-1.0.0:\n",
      "      Successfully uninstalled hexalattice-alexkaz-1.0.0\n",
      "  Running setup.py develop for hexalattice-alexkaz\n",
      "Successfully installed hexalattice-alexkaz\n",
      "Collecting colormap\n",
      "  Downloading https://files.pythonhosted.org/packages/a7/26/629aa9f3187c77725f8dc045c6dc922bc846cff386f7e5945e845e104bbe/colormap-1.0.3.tar.gz\n",
      "Building wheels for collected packages: colormap\n",
      "  Building wheel for colormap (setup.py): started\n",
      "  Building wheel for colormap (setup.py): finished with status 'done'\n",
      "  Created wheel for colormap: filename=colormap-1.0.3-cp37-none-any.whl size=15561 sha256=895e3225b5cc26e257f999122dc13bbe0c254c807c4caa3ae9a0e58c1d9eda88\n",
      "  Stored in directory: /home/rodrigo/.cache/pip/wheels/b5/c4/23/5f5d3e77fb0d00f44ee147a9cbb3acb641b9ebe2f3d5406c66\n",
      "Successfully built colormap\n",
      "Installing collected packages: colormap\n",
      "Successfully installed colormap-1.0.3\n"
     ]
    }
   ],
   "source": [
    "%%bash\n",
    "cd /home/rodrigo/repos/hexalattice/\n",
    "pip install -e .\n",
    "pip install colormap"
   ]
  },
  {
   "cell_type": "code",
   "execution_count": 4,
   "metadata": {
    "ExecuteTime": {
     "end_time": "2021-04-12T01:30:03.480684Z",
     "start_time": "2021-04-12T01:30:03.477555Z"
    }
   },
   "outputs": [],
   "source": []
  },
  {
   "cell_type": "code",
   "execution_count": 279,
   "metadata": {
    "ExecuteTime": {
     "end_time": "2021-04-12T03:15:07.423940Z",
     "start_time": "2021-04-12T03:15:07.210437Z"
    }
   },
   "outputs": [
    {
     "data": {
      "text/plain": [
       "<matplotlib.axes._axes.Axes at 0x7f3407a65bd0>"
      ]
     },
     "execution_count": 279,
     "metadata": {},
     "output_type": "execute_result"
    },
    {
     "data": {
      "image/png": "[encoded data removed]",
      "text/plain": [
       "<Figure size 360x360 with 1 Axes>"
      ]
     },
     "metadata": {
      "needs_background": "light"
     },
     "output_type": "display_data"
    }
   ],
   "source": [
    "from hexalattice import hexalattice as hexa\n",
    "from matplotlib import pyplot as plt\n",
    "import numpy as np\n",
    "\n",
    "hex_centers, h_ax = hexa.create_hex_grid(nx=9, ny=9, min_diam=1, do_plot=False)\n",
    "tile_centers_x = hex_centers[:, 0]\n",
    "tile_centers_y = hex_centers[:, 1]\n",
    "\n",
    "indexes = [\n",
    "    list(range(2,7)),\n",
    "    list(range(10,16)),\n",
    "    list(range(19,26)),\n",
    "    list(range(27,35)),\n",
    "    list(range(36,45)),\n",
    "    list(range(45,53)),\n",
    "    list(range(55,62)),\n",
    "    list(range(64,70)),\n",
    "    list(range(74,79)),\n",
    "]\n",
    "np.hstack(indexes)\n",
    "\n",
    "edge_in_board = np.hstack(np.array([0,0,0,0.2]))\n",
    "edge_out_board = np.hstack(np.array([1,1,1,0]))\n",
    "edge_in_board_occupuied =np.hstack(np.array([0,0,0,1]))\n",
    "\n",
    "\n",
    "black_piece = np.hstack(np.array([0,0,0,1]))\n",
    "white_piece = np.hstack(np.array([1,1,1,1]))\n",
    "blank_piece = np.hstack(np.array([0,0,0,0.2]))\n",
    "\n",
    "new_edge_colors = np.zeros(colors.shape)\n",
    "new_edge_colors[:,:] = edge_out_board\n",
    "new_edge_colors[np.hstack(indexes)] = edge_in_board\n",
    "\n",
    "new_face_colors = np.zeros(colors.shape)\n",
    "\n",
    "for game_piece, index in zip(np.hstack(game.board), np.hstack(indexes)):\n",
    "    if game_piece.value == 1:\n",
    "        new_face_colors[index] = black_piece\n",
    "        new_edge_colors[index] = edge_in_board_occupuied\n",
    "    elif game_piece.value == 0:\n",
    "        new_face_colors[index] = blank_piece\n",
    "    elif game_piece.value == -1:\n",
    "        new_face_colors[index] = white_piece\n",
    "        new_edge_colors[index] = edge_in_board_occupuied\n",
    "    else:\n",
    "        raise ValueError(f'Unknown game piece value:{game_piece.value}')\n",
    "\n",
    "hexa.plot_single_lattice_custom_colors(hex_centers[:, 0], hex_centers[:, 1],\n",
    "                              face_color=new_face_colors,\n",
    "                              edge_color=new_edge_colors,\n",
    "                              min_diam=0.95,\n",
    "                              plotting_gap=0.05,\n",
    "                              rotate_deg=0,\n",
    "                             )"
   ]
  },
  {
   "cell_type": "code",
   "execution_count": 277,
   "metadata": {
    "ExecuteTime": {
     "end_time": "2021-04-12T03:14:43.017932Z",
     "start_time": "2021-04-12T03:14:42.821923Z"
    }
   },
   "outputs": [
    {
     "data": {
      "text/plain": [
       "<matplotlib.axes._axes.Axes at 0x7f3407cf16d0>"
      ]
     },
     "execution_count": 277,
     "metadata": {},
     "output_type": "execute_result"
    },
    {
     "data": {
      "image/png": "[encoded data removed]",
      "text/plain": [
       "<Figure size 360x360 with 1 Axes>"
      ]
     },
     "metadata": {
      "needs_background": "light"
     },
     "output_type": "display_data"
    }
   ],
   "source": []
  },
  {
   "cell_type": "code",
   "execution_count": 252,
   "metadata": {
    "ExecuteTime": {
     "end_time": "2021-04-12T03:09:39.637036Z",
     "start_time": "2021-04-12T03:09:39.624066Z"
    }
   },
   "outputs": [
    {
     "data": {
      "text/plain": [
       "(81, 4)"
      ]
     },
     "execution_count": 252,
     "metadata": {},
     "output_type": "execute_result"
    }
   ],
   "source": [
    "colors.shape"
   ]
  },
  {
   "cell_type": "raw",
   "metadata": {
    "ExecuteTime": {
     "end_time": "2021-04-12T01:38:38.663245Z",
     "start_time": "2021-04-12T01:38:38.655315Z"
    }
   },
   "source": [
    "hex_centers"
   ]
  },
  {
   "cell_type": "code",
   "execution_count": 22,
   "metadata": {
    "ExecuteTime": {
     "end_time": "2021-04-12T01:23:44.585094Z",
     "start_time": "2021-04-12T01:23:44.572430Z"
    }
   },
   "outputs": [
    {
     "data": {
      "text/plain": [
       "array([-5.5, -4.5, -3.5, -2.5, -1.5, -0.5,  0.5,  1.5,  2.5,  3.5,  4.5,\n",
       "       -5. , -4. , -3. , -2. , -1. ,  0. ,  1. ,  2. ,  3. ,  4. ,  5. ,\n",
       "       -5.5, -4.5, -3.5, -2.5, -1.5, -0.5,  0.5,  1.5,  2.5,  3.5,  4.5,\n",
       "       -5. , -4. , -3. , -2. , -1. ,  0. ,  1. ,  2. ,  3. ,  4. ,  5. ,\n",
       "       -5.5, -4.5, -3.5, -2.5, -1.5, -0.5,  0.5,  1.5,  2.5,  3.5,  4.5,\n",
       "       -5. , -4. , -3. , -2. , -1. ,  0. ,  1. ,  2. ,  3. ,  4. ,  5. ,\n",
       "       -5.5, -4.5, -3.5, -2.5, -1.5, -0.5,  0.5,  1.5,  2.5,  3.5,  4.5,\n",
       "       -5. , -4. , -3. , -2. , -1. ,  0. ,  1. ,  2. ,  3. ,  4. ,  5. ,\n",
       "       -5.5, -4.5, -3.5, -2.5, -1.5, -0.5,  0.5,  1.5,  2.5,  3.5,  4.5,\n",
       "       -5. , -4. , -3. , -2. , -1. ,  0. ,  1. ,  2. ,  3. ,  4. ,  5. ,\n",
       "       -5.5, -4.5, -3.5, -2.5, -1.5, -0.5,  0.5,  1.5,  2.5,  3.5,  4.5])"
      ]
     },
     "execution_count": 22,
     "metadata": {},
     "output_type": "execute_result"
    }
   ],
   "source": [
    "tile_centers_x"
   ]
  }
 ],
 "metadata": {
  "kernelspec": {
   "display_name": "Python 3",
   "language": "python",
   "name": "python3"
  },
  "language_info": {
   "codemirror_mode": {
    "name": "ipython",
    "version": 3
   },
   "file_extension": ".py",
   "mimetype": "text/x-python",
   "name": "python",
   "nbconvert_exporter": "python",
   "pygments_lexer": "ipython3",
   "version": "3.7.4"
  }
 },
 "nbformat": 4,
 "nbformat_minor": 2
}
